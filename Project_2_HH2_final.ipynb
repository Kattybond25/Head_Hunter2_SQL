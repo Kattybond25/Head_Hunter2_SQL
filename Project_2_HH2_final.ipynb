{
  "cells": [
    {
      "cell_type": "markdown",
      "id": "42289889-bd57-434e-9637-d3e354756316",
      "metadata": {
        "id": "42289889-bd57-434e-9637-d3e354756316"
      },
      "source": [
        "<center> <img src = https://raw.githubusercontent.com/AndreyRysistov/DatasetsForPandas/main/hh%20label.jpg alt=\"drawing\" style=\"width:400px;\">"
      ]
    },
    {
      "cell_type": "markdown",
      "id": "829cb75b-f14e-4ba8-9195-7ba929a7d656",
      "metadata": {
        "id": "829cb75b-f14e-4ba8-9195-7ba929a7d656",
        "tags": []
      },
      "source": [
        "# <center> Проект: Анализ вакансий из HeadHunter\n",
        "   "
      ]
    },
    {
      "cell_type": "code",
      "execution_count": 2108,
      "id": "dccfde33-2452-43fb-a8a5-5c6ebc02a71d",
      "metadata": {
        "id": "dccfde33-2452-43fb-a8a5-5c6ebc02a71d"
      },
      "outputs": [],
      "source": [
        "import pandas as pd\n",
        "import psycopg2"
      ]
    },
    {
      "cell_type": "code",
      "execution_count": 2109,
      "id": "oVKH4ehvf8Ay",
      "metadata": {
        "id": "oVKH4ehvf8Ay"
      },
      "outputs": [],
      "source": [
        "# вставьте сюда параметры подключения из юнита 1. Работа с базой данных из Python \n",
        "DBNAME = 'project_sql'\n",
        "USER = 'skillfactory'\n",
        "PASSWORD = 'cCkxxLVrDE8EbvjueeMedPKt'\n",
        "HOST = '84.201.134.129'\n",
        "PORT = 5432"
      ]
    },
    {
      "cell_type": "code",
      "execution_count": 2110,
      "id": "G4X_q8KBf7SF",
      "metadata": {
        "id": "G4X_q8KBf7SF"
      },
      "outputs": [],
      "source": [
        "connection = psycopg2.connect(\n",
        "    dbname=DBNAME,\n",
        "    user=USER,\n",
        "    host=HOST,\n",
        "    password=PASSWORD,\n",
        "    port=PORT\n",
        ")"
      ]
    },
    {
      "cell_type": "markdown",
      "id": "0dc6476b-7a00-44f1-ac93-6e3baed33a29",
      "metadata": {
        "id": "0dc6476b-7a00-44f1-ac93-6e3baed33a29"
      },
      "source": [
        "# Юнит 3. Предварительный анализ данных"
      ]
    },
    {
      "cell_type": "markdown",
      "id": "889782b6-8d1c-410e-8920-e57f27917c64",
      "metadata": {
        "id": "889782b6-8d1c-410e-8920-e57f27917c64"
      },
      "source": [
        "1. Напишите запрос, который посчитает количество вакансий в нашей базе (вакансии находятся в таблице vacancies). "
      ]
    },
    {
      "cell_type": "code",
      "execution_count": 2111,
      "id": "bc39e68e-ed02-4ee2-9235-7258a2f867a8",
      "metadata": {
        "id": "bc39e68e-ed02-4ee2-9235-7258a2f867a8"
      },
      "outputs": [],
      "source": [
        "# текст запроса\n",
        "query_3_1 = f'''select count(*)\n",
        "from vacancies\n",
        "'''"
      ]
    },
    {
      "cell_type": "code",
      "execution_count": 2112,
      "id": "f7dd2b00",
      "metadata": {},
      "outputs": [
        {
          "name": "stderr",
          "output_type": "stream",
          "text": [
            "C:\\Users\\HONOR\\AppData\\Local\\Temp\\ipykernel_15180\\306643106.py:1: UserWarning: pandas only supports SQLAlchemy connectable (engine/connection) or database string URI or sqlite3 DBAPI2 connection. Other DBAPI2 objects are not tested. Please consider using SQLAlchemy.\n",
            "  df=pd.read_sql_query(query_3_1, connection)\n"
          ]
        },
        {
          "data": {
            "text/html": [
              "<div>\n",
              "<style scoped>\n",
              "    .dataframe tbody tr th:only-of-type {\n",
              "        vertical-align: middle;\n",
              "    }\n",
              "\n",
              "    .dataframe tbody tr th {\n",
              "        vertical-align: top;\n",
              "    }\n",
              "\n",
              "    .dataframe thead th {\n",
              "        text-align: right;\n",
              "    }\n",
              "</style>\n",
              "<table border=\"1\" class=\"dataframe\">\n",
              "  <thead>\n",
              "    <tr style=\"text-align: right;\">\n",
              "      <th></th>\n",
              "      <th>count</th>\n",
              "    </tr>\n",
              "  </thead>\n",
              "  <tbody>\n",
              "    <tr>\n",
              "      <th>0</th>\n",
              "      <td>49197</td>\n",
              "    </tr>\n",
              "  </tbody>\n",
              "</table>\n",
              "</div>"
            ],
            "text/plain": [
              "   count\n",
              "0  49197"
            ]
          },
          "metadata": {},
          "output_type": "display_data"
        }
      ],
      "source": [
        "df=pd.read_sql_query(query_3_1, connection)\n",
        "display(df)"
      ]
    },
    {
      "cell_type": "code",
      "execution_count": 2113,
      "id": "7mAwtsk4hEHY",
      "metadata": {
        "id": "7mAwtsk4hEHY"
      },
      "outputs": [],
      "source": [
        "# результат запроса"
      ]
    },
    {
      "cell_type": "markdown",
      "id": "b583485d-1f9e-494e-ada4-80ffff7c53d6",
      "metadata": {
        "id": "b583485d-1f9e-494e-ada4-80ffff7c53d6"
      },
      "source": [
        "2. Напишите запрос, который посчитает количество работодателей (таблица employers). "
      ]
    },
    {
      "cell_type": "code",
      "execution_count": 2114,
      "id": "5408c52c-3407-4a63-b25b-1aafa2322d28",
      "metadata": {
        "id": "5408c52c-3407-4a63-b25b-1aafa2322d28"
      },
      "outputs": [
        {
          "name": "stdout",
          "output_type": "stream",
          "text": [
            "   count\n",
            "0  23501\n"
          ]
        },
        {
          "name": "stderr",
          "output_type": "stream",
          "text": [
            "C:\\Users\\HONOR\\AppData\\Local\\Temp\\ipykernel_15180\\2947126609.py:5: UserWarning: pandas only supports SQLAlchemy connectable (engine/connection) or database string URI or sqlite3 DBAPI2 connection. Other DBAPI2 objects are not tested. Please consider using SQLAlchemy.\n",
            "  dfe=pd.read_sql_query(query_3_2, connection)\n"
          ]
        }
      ],
      "source": [
        "# текст запроса\n",
        "query_3_2 = f'''select count(*)\n",
        "from employers\n",
        "'''\n",
        "dfe=pd.read_sql_query(query_3_2, connection)\n",
        "print(dfe)"
      ]
    },
    {
      "cell_type": "code",
      "execution_count": 2115,
      "id": "jVL4eshKhdqc",
      "metadata": {
        "id": "jVL4eshKhdqc"
      },
      "outputs": [],
      "source": [
        "# результат запроса"
      ]
    },
    {
      "cell_type": "markdown",
      "id": "a2bfff1f-c975-4bf6-84be-2185d79dcb76",
      "metadata": {
        "id": "a2bfff1f-c975-4bf6-84be-2185d79dcb76"
      },
      "source": [
        "3. Посчитате с помощью запроса количество регионов (таблица areas)."
      ]
    },
    {
      "cell_type": "code",
      "execution_count": 2116,
      "id": "1m8QJwBYhey6",
      "metadata": {
        "id": "1m8QJwBYhey6"
      },
      "outputs": [
        {
          "name": "stdout",
          "output_type": "stream",
          "text": [
            "   count\n",
            "0   1362\n"
          ]
        },
        {
          "name": "stderr",
          "output_type": "stream",
          "text": [
            "C:\\Users\\HONOR\\AppData\\Local\\Temp\\ipykernel_15180\\1019051366.py:5: UserWarning: pandas only supports SQLAlchemy connectable (engine/connection) or database string URI or sqlite3 DBAPI2 connection. Other DBAPI2 objects are not tested. Please consider using SQLAlchemy.\n",
            "  dfa=pd.read_sql_query(query_3_3, connection)\n"
          ]
        }
      ],
      "source": [
        "# текст запроса\n",
        "query_3_3 = f'''select count(*)\n",
        "from areas\n",
        "'''\n",
        "dfa=pd.read_sql_query(query_3_3, connection)\n",
        "print(dfa)"
      ]
    },
    {
      "cell_type": "code",
      "execution_count": 2117,
      "id": "EZsn9tlfhe7f",
      "metadata": {
        "id": "EZsn9tlfhe7f"
      },
      "outputs": [],
      "source": [
        "# результат запроса"
      ]
    },
    {
      "cell_type": "markdown",
      "id": "41bb59f3-53cc-4a67-a5bc-bedf573955e4",
      "metadata": {
        "id": "41bb59f3-53cc-4a67-a5bc-bedf573955e4"
      },
      "source": [
        "4. Посчитате с помощью запроса количество сфер деятельности в базе (таблица industries)."
      ]
    },
    {
      "cell_type": "code",
      "execution_count": 2118,
      "id": "d286cf4c-707b-4cd2-9190-7ab3587d04a1",
      "metadata": {
        "id": "d286cf4c-707b-4cd2-9190-7ab3587d04a1"
      },
      "outputs": [
        {
          "name": "stdout",
          "output_type": "stream",
          "text": [
            "   count\n",
            "0    294\n"
          ]
        },
        {
          "name": "stderr",
          "output_type": "stream",
          "text": [
            "C:\\Users\\HONOR\\AppData\\Local\\Temp\\ipykernel_15180\\3919168363.py:5: UserWarning: pandas only supports SQLAlchemy connectable (engine/connection) or database string URI or sqlite3 DBAPI2 connection. Other DBAPI2 objects are not tested. Please consider using SQLAlchemy.\n",
            "  dfi=pd.read_sql_query(query_3_4, connection)\n"
          ]
        }
      ],
      "source": [
        "# текст запроса\n",
        "query_3_4 = f'''select count(*)\n",
        "from industries\n",
        "'''\n",
        "dfi=pd.read_sql_query(query_3_4, connection)\n",
        "print(dfi)"
      ]
    },
    {
      "cell_type": "code",
      "execution_count": 2119,
      "id": "JYAaoZ4qhfzW",
      "metadata": {
        "id": "JYAaoZ4qhfzW"
      },
      "outputs": [],
      "source": [
        "# результат запроса"
      ]
    },
    {
      "cell_type": "markdown",
      "id": "9a8a2181-6914-448b-85f1-38f5f18b8a93",
      "metadata": {
        "id": "9a8a2181-6914-448b-85f1-38f5f18b8a93"
      },
      "source": [
        "***"
      ]
    },
    {
      "cell_type": "code",
      "execution_count": 2120,
      "id": "be4e9bd3-a4db-4a20-82fb-6b02fc2957e0",
      "metadata": {
        "id": "be4e9bd3-a4db-4a20-82fb-6b02fc2957e0"
      },
      "outputs": [],
      "source": [
        "# выводы по предварительному анализу данных"
      ]
    },
    {
      "cell_type": "markdown",
      "id": "8d62a9f3-f64e-4fe7-bdac-c4dffa16155e",
      "metadata": {
        "id": "8d62a9f3-f64e-4fe7-bdac-c4dffa16155e"
      },
      "source": [
        "# Юнит 4. Детальный анализ вакансий"
      ]
    },
    {
      "cell_type": "markdown",
      "id": "93053d3d-b284-481a-9cf7-012d7014c0e0",
      "metadata": {
        "id": "93053d3d-b284-481a-9cf7-012d7014c0e0"
      },
      "source": [
        "1. Напишите запрос, который позволит узнать, сколько (cnt) вакансий в каждом регионе (area).\n",
        "Отсортируйте по количеству вакансий в порядке убывания."
      ]
    },
    {
      "cell_type": "code",
      "execution_count": 2121,
      "id": "3f069da6-fdc9-4ae7-b514-fafe2675efd3",
      "metadata": {
        "id": "3f069da6-fdc9-4ae7-b514-fafe2675efd3"
      },
      "outputs": [
        {
          "name": "stderr",
          "output_type": "stream",
          "text": [
            "C:\\Users\\HONOR\\AppData\\Local\\Temp\\ipykernel_15180\\2495048785.py:8: UserWarning: pandas only supports SQLAlchemy connectable (engine/connection) or database string URI or sqlite3 DBAPI2 connection. Other DBAPI2 objects are not tested. Please consider using SQLAlchemy.\n",
            "  df_by_area=pd.read_sql_query(query_3_5, connection)\n"
          ]
        },
        {
          "name": "stdout",
          "output_type": "stream",
          "text": [
            "           area_name   cnt\n",
            "0             Москва  5333\n",
            "1    Санкт-Петербург  2851\n",
            "2              Минск  2112\n",
            "3        Новосибирск  2006\n",
            "4             Алматы  1892\n",
            "..               ...   ...\n",
            "764       Тарко-Сале     1\n",
            "765    Новоаннинский     1\n",
            "766            Бирск     1\n",
            "767           Сасово     1\n",
            "768             Анна     1\n",
            "\n",
            "[769 rows x 2 columns]\n"
          ]
        }
      ],
      "source": [
        "# текст запроса\n",
        "query_3_5 = f'''select a.name as area_name, count(v.id) as cnt\n",
        "from areas a\n",
        "join vacancies v ON a.id=v.area_id\n",
        "group by a.name\n",
        "order by cnt desc\n",
        "'''\n",
        "df_by_area=pd.read_sql_query(query_3_5, connection)\n",
        "print(df_by_area)"
      ]
    },
    {
      "cell_type": "code",
      "execution_count": 2122,
      "id": "P7QL86hrjhRJ",
      "metadata": {
        "id": "P7QL86hrjhRJ"
      },
      "outputs": [],
      "source": [
        "# результат запроса"
      ]
    },
    {
      "cell_type": "markdown",
      "id": "4266f0b6-1646-492a-88b4-2f6a46502135",
      "metadata": {
        "id": "4266f0b6-1646-492a-88b4-2f6a46502135"
      },
      "source": [
        "2. Напишите запрос, чтобы определить у какого количества вакансий заполнено хотя бы одно из двух полей с зарплатой."
      ]
    },
    {
      "cell_type": "code",
      "execution_count": 2123,
      "id": "0c44b350-72eb-4d65-8b54-a1fc449ba9fd",
      "metadata": {
        "id": "0c44b350-72eb-4d65-8b54-a1fc449ba9fd"
      },
      "outputs": [
        {
          "name": "stdout",
          "output_type": "stream",
          "text": [
            "   count\n",
            "0  24073\n"
          ]
        },
        {
          "name": "stderr",
          "output_type": "stream",
          "text": [
            "C:\\Users\\HONOR\\AppData\\Local\\Temp\\ipykernel_15180\\2636027626.py:6: UserWarning: pandas only supports SQLAlchemy connectable (engine/connection) or database string URI or sqlite3 DBAPI2 connection. Other DBAPI2 objects are not tested. Please consider using SQLAlchemy.\n",
            "  df_salary=pd.read_sql_query(query_3_6, connection)\n"
          ]
        }
      ],
      "source": [
        "# текст запроса\n",
        "query_3_6 = f'''select count(*)\n",
        "from vacancies\n",
        "where salary_to is not Null or salary_from is not null\n",
        "'''\n",
        "df_salary=pd.read_sql_query(query_3_6, connection)\n",
        "print(df_salary)"
      ]
    },
    {
      "cell_type": "code",
      "execution_count": 2124,
      "id": "rhvwaMDkoWTi",
      "metadata": {
        "id": "rhvwaMDkoWTi"
      },
      "outputs": [],
      "source": [
        "# результат запроса"
      ]
    },
    {
      "cell_type": "markdown",
      "id": "635c4d5d-f323-4c66-b428-50a088120aa0",
      "metadata": {
        "id": "635c4d5d-f323-4c66-b428-50a088120aa0"
      },
      "source": [
        "3. Найдите средние значения для нижней и верхней границы зарплатной вилки. Округлите значения до целого."
      ]
    },
    {
      "cell_type": "code",
      "execution_count": 2125,
      "id": "603cdbe4-0ec3-4106-8eaf-c73fcdd29165",
      "metadata": {
        "id": "603cdbe4-0ec3-4106-8eaf-c73fcdd29165"
      },
      "outputs": [
        {
          "name": "stdout",
          "output_type": "stream",
          "text": [
            "   average_salary_from  average_salary_to\n",
            "0              71065.0           110537.0\n"
          ]
        },
        {
          "name": "stderr",
          "output_type": "stream",
          "text": [
            "C:\\Users\\HONOR\\AppData\\Local\\Temp\\ipykernel_15180\\1706312933.py:6: UserWarning: pandas only supports SQLAlchemy connectable (engine/connection) or database string URI or sqlite3 DBAPI2 connection. Other DBAPI2 objects are not tested. Please consider using SQLAlchemy.\n",
            "  df_salary_folk=pd.read_sql_query(query_3_7, connection)\n"
          ]
        }
      ],
      "source": [
        "# текст запроса\n",
        "query_3_7 = f'''select round(avg(salary_from)) as average_salary_from, round(avg(salary_to)) as average_salary_to\n",
        "from vacancies\n",
        "where salary_to is not Null or salary_from is not null\n",
        "'''\n",
        "df_salary_folk=pd.read_sql_query(query_3_7, connection)\n",
        "print(df_salary_folk)"
      ]
    },
    {
      "cell_type": "code",
      "execution_count": 2126,
      "id": "pswpAb66ovZZ",
      "metadata": {
        "id": "pswpAb66ovZZ"
      },
      "outputs": [],
      "source": [
        "# результат запроса"
      ]
    },
    {
      "cell_type": "markdown",
      "id": "f3fdaec9-5fd3-4260-9cf5-1d7406b628a5",
      "metadata": {
        "id": "f3fdaec9-5fd3-4260-9cf5-1d7406b628a5"
      },
      "source": [
        "4. Напишите запрос, который выведет количество вакансий для каждого сочетания типа рабочего графика (schedule) и типа трудоустройства (employment), используемого в вакансиях. Результат отсортируйте по убыванию количества.\n"
      ]
    },
    {
      "cell_type": "code",
      "execution_count": 2127,
      "id": "1ea710ec-871b-431e-9462-c7d0fd87011b",
      "metadata": {
        "id": "1ea710ec-871b-431e-9462-c7d0fd87011b"
      },
      "outputs": [
        {
          "name": "stdout",
          "output_type": "stream",
          "text": [
            "            schedule           employment  vacancy_count\n",
            "0        Полный день     Полная занятость          35367\n",
            "1   Удаленная работа     Полная занятость           7802\n",
            "2      Гибкий график     Полная занятость           1593\n",
            "3   Удаленная работа  Частичная занятость           1312\n",
            "4     Сменный график     Полная занятость            940\n",
            "5        Полный день           Стажировка            569\n",
            "6     Вахтовый метод     Полная занятость            367\n",
            "7        Полный день  Частичная занятость            347\n",
            "8      Гибкий график  Частичная занятость            312\n",
            "9        Полный день     Проектная работа            141\n",
            "10  Удаленная работа     Проектная работа            133\n",
            "11     Гибкий график           Стажировка            116\n",
            "12    Сменный график  Частичная занятость            101\n",
            "13  Удаленная работа           Стажировка             64\n",
            "14     Гибкий график     Проектная работа             18\n",
            "15    Сменный график           Стажировка             12\n",
            "16    Вахтовый метод     Проектная работа              2\n",
            "17    Сменный график     Проектная работа              1\n"
          ]
        },
        {
          "name": "stderr",
          "output_type": "stream",
          "text": [
            "C:\\Users\\HONOR\\AppData\\Local\\Temp\\ipykernel_15180\\3063345566.py:7: UserWarning: pandas only supports SQLAlchemy connectable (engine/connection) or database string URI or sqlite3 DBAPI2 connection. Other DBAPI2 objects are not tested. Please consider using SQLAlchemy.\n",
            "  df_schedule_employment=pd.read_sql_query(query_3_8, connection)\n"
          ]
        }
      ],
      "source": [
        "# текст запроса\n",
        "query_3_8 = f'''select schedule, employment, count(*) as vacancy_count\n",
        "from vacancies\n",
        "group by schedule, employment\n",
        "order by vacancy_count desc\n",
        "'''\n",
        "df_schedule_employment=pd.read_sql_query(query_3_8, connection)\n",
        "print(df_schedule_employment)"
      ]
    },
    {
      "cell_type": "code",
      "execution_count": 2128,
      "id": "lGUVqavdo4JQ",
      "metadata": {
        "id": "lGUVqavdo4JQ"
      },
      "outputs": [],
      "source": [
        "# результат запроса"
      ]
    },
    {
      "cell_type": "markdown",
      "id": "0136ffee-0ead-4a6b-b608-61d1c753a438",
      "metadata": {
        "id": "0136ffee-0ead-4a6b-b608-61d1c753a438"
      },
      "source": [
        "5. Напишите запрос, выводящий значения поля Требуемый опыт работы (experience) в порядке возрастания количества вакансий, в которых указан данный вариант опыта. "
      ]
    },
    {
      "cell_type": "code",
      "execution_count": 2129,
      "id": "5b3a8e79-f7ab-4008-b767-12aea3a205ea",
      "metadata": {
        "id": "5b3a8e79-f7ab-4008-b767-12aea3a205ea"
      },
      "outputs": [
        {
          "name": "stderr",
          "output_type": "stream",
          "text": [
            "C:\\Users\\HONOR\\AppData\\Local\\Temp\\ipykernel_15180\\1029523279.py:8: UserWarning: pandas only supports SQLAlchemy connectable (engine/connection) or database string URI or sqlite3 DBAPI2 connection. Other DBAPI2 objects are not tested. Please consider using SQLAlchemy.\n",
            "  df_experience=pd.read_sql_query(query_3_9, connection)\n"
          ]
        },
        {
          "name": "stdout",
          "output_type": "stream",
          "text": [
            "           experience  vacancy_count\n",
            "0         Более 6 лет           1337\n",
            "1           Нет опыта           7197\n",
            "2       От 3 до 6 лет          14511\n",
            "3  От 1 года до 3 лет          26152\n"
          ]
        }
      ],
      "source": [
        "# текст запроса\n",
        "query_3_9 = f'''select experience, count(*) as vacancy_count\n",
        "from vacancies\n",
        "where experience is not null\n",
        "group by experience\n",
        "order by vacancy_count asc\n",
        "'''\n",
        "df_experience=pd.read_sql_query(query_3_9, connection)\n",
        "print(df_experience)"
      ]
    },
    {
      "cell_type": "code",
      "execution_count": 2130,
      "id": "3Is64Y-hpDpq",
      "metadata": {
        "id": "3Is64Y-hpDpq"
      },
      "outputs": [],
      "source": [
        "# результат запроса"
      ]
    },
    {
      "cell_type": "markdown",
      "id": "oq2b7n1QpIka",
      "metadata": {
        "id": "oq2b7n1QpIka"
      },
      "source": [
        "***"
      ]
    },
    {
      "cell_type": "code",
      "execution_count": 2131,
      "id": "e91f87ed-e25c-4f96-9f92-b642e8c0b4fa",
      "metadata": {
        "id": "e91f87ed-e25c-4f96-9f92-b642e8c0b4fa"
      },
      "outputs": [],
      "source": [
        "# выводы по детальному анализу вакансий"
      ]
    },
    {
      "cell_type": "markdown",
      "id": "7ea20ab6-04a7-40a0-adec-443a0e5a42c3",
      "metadata": {
        "id": "7ea20ab6-04a7-40a0-adec-443a0e5a42c3"
      },
      "source": [
        "# Юнит 5. Анализ работодателей"
      ]
    },
    {
      "cell_type": "markdown",
      "id": "968aed80-74ef-4ffb-b5bf-c65b84e9caea",
      "metadata": {
        "id": "968aed80-74ef-4ffb-b5bf-c65b84e9caea"
      },
      "source": [
        "1. Напишите запрос, который позволит узнать, какие работодатели находятся на первом и пятом месте по количеству вакансий."
      ]
    },
    {
      "cell_type": "code",
      "execution_count": 2132,
      "id": "f2d62796-d400-4ec1-a675-88112739a50e",
      "metadata": {
        "id": "f2d62796-d400-4ec1-a675-88112739a50e"
      },
      "outputs": [
        {
          "name": "stderr",
          "output_type": "stream",
          "text": [
            "C:\\Users\\HONOR\\AppData\\Local\\Temp\\ipykernel_15180\\2596534333.py:8: UserWarning: pandas only supports SQLAlchemy connectable (engine/connection) or database string URI or sqlite3 DBAPI2 connection. Other DBAPI2 objects are not tested. Please consider using SQLAlchemy.\n",
            "  df_employers=pd.read_sql_query(query_3_10, connection)\n"
          ]
        },
        {
          "name": "stdout",
          "output_type": "stream",
          "text": [
            "  employers_name   cnt\n",
            "0         Яндекс  1933\n",
            "4  Газпром нефть   331\n"
          ]
        }
      ],
      "source": [
        "# текст запроса\n",
        "query_3_10= f'''select e.name as employers_name, count(v.id) as cnt\n",
        "from employers e\n",
        "join vacancies v ON e.id=v.employer_id\n",
        "group by e.name\n",
        "order by cnt desc\n",
        "'''\n",
        "df_employers=pd.read_sql_query(query_3_10, connection)\n",
        "print(df_employers.iloc[[0,4]])"
      ]
    },
    {
      "cell_type": "code",
      "execution_count": 2133,
      "id": "64tOMkAxqkQk",
      "metadata": {
        "id": "64tOMkAxqkQk"
      },
      "outputs": [],
      "source": [
        "# результат запроса\n"
      ]
    },
    {
      "cell_type": "markdown",
      "id": "68377cfc-b378-43dc-ab7d-1195abf2c515",
      "metadata": {
        "id": "68377cfc-b378-43dc-ab7d-1195abf2c515"
      },
      "source": [
        "2. Напишите запрос, который для каждого региона выведет количество работодателей и вакансий в нём.\n",
        "Среди регионов, в которых нет вакансий, найдите тот, в котором наибольшее количество работодателей.\n"
      ]
    },
    {
      "cell_type": "code",
      "execution_count": 2134,
      "id": "dd7df27a-e3e8-412e-a21a-5d389b71e891",
      "metadata": {
        "id": "dd7df27a-e3e8-412e-a21a-5d389b71e891"
      },
      "outputs": [
        {
          "name": "stderr",
          "output_type": "stream",
          "text": [
            "C:\\Users\\HONOR\\AppData\\Local\\Temp\\ipykernel_15180\\84932848.py:16: UserWarning: pandas only supports SQLAlchemy connectable (engine/connection) or database string URI or sqlite3 DBAPI2 connection. Other DBAPI2 objects are not tested. Please consider using SQLAlchemy.\n",
            "  df_employers_count=pd.read_sql_query(query_3_11, connection)\n"
          ]
        },
        {
          "name": "stdout",
          "output_type": "stream",
          "text": [
            "                            region  employers_count  vacancies_count\n",
            "0                           Москва             5864             5333\n",
            "1                  Санкт-Петербург             2217             2851\n",
            "2                            Минск             1115             2112\n",
            "3                           Алматы              721             1892\n",
            "4                     Екатеринбург              609             1698\n",
            "...                            ...              ...              ...\n",
            "1357                        Ярцево                0                2\n",
            "1358                     Ясногорск                0                2\n",
            "1359  Ясный (Оренбургская область)                0                0\n",
            "1360                        Яшкино                0                0\n",
            "1361                            Яя                0                1\n",
            "\n",
            "[1362 rows x 3 columns]\n",
            "region             Москва\n",
            "employers_count      5864\n",
            "vacancies_count      5333\n",
            "Name: 0, dtype: object\n"
          ]
        }
      ],
      "source": [
        "# текст запроса\n",
        "query_3_11= f'''\n",
        "SELECT\n",
        "    a.name AS region,\n",
        "    COUNT(DISTINCT e.id) AS employers_count,\n",
        "    COUNT(DISTINCT v.id) AS vacancies_count\n",
        "FROM\n",
        "    areas a\n",
        "LEFT JOIN employers e ON a.id = e.area\n",
        "LEFT JOIN vacancies v ON a.id = v.area_id\n",
        "GROUP BY\n",
        "    a.id, a.name\n",
        "ORDER BY\n",
        "    employers_count DESC, region;\n",
        "'''\n",
        "df_employers_count=pd.read_sql_query(query_3_11, connection)\n",
        "print(df_employers_count)\n",
        "print(df_employers_count.iloc[0])\n",
        "#Having\n",
        "#    count(v.id)=0"
      ]
    },
    {
      "cell_type": "code",
      "execution_count": 2135,
      "id": "x1ikWbydrbf6",
      "metadata": {
        "id": "x1ikWbydrbf6"
      },
      "outputs": [],
      "source": [
        "# результат запроса"
      ]
    },
    {
      "cell_type": "markdown",
      "id": "f2fe0acb-ab1a-4e15-9326-2560e22d73c1",
      "metadata": {
        "id": "f2fe0acb-ab1a-4e15-9326-2560e22d73c1"
      },
      "source": [
        "3. Для каждого работодателя посчитайте количество регионов, в которых он публикует свои вакансии. Отсортируйте результат по убыванию количества.\n"
      ]
    },
    {
      "cell_type": "code",
      "execution_count": 2136,
      "id": "6271f8ad-bd2e-4196-ae4a-5b39c4c1010e",
      "metadata": {
        "id": "6271f8ad-bd2e-4196-ae4a-5b39c4c1010e"
      },
      "outputs": [
        {
          "name": "stderr",
          "output_type": "stream",
          "text": [
            "C:\\Users\\HONOR\\AppData\\Local\\Temp\\ipykernel_15180\\3229663590.py:14: UserWarning: pandas only supports SQLAlchemy connectable (engine/connection) or database string URI or sqlite3 DBAPI2 connection. Other DBAPI2 objects are not tested. Please consider using SQLAlchemy.\n",
            "  df_employers_public_vacancies=pd.read_sql_query(query_3_12, connection)\n"
          ]
        },
        {
          "name": "stdout",
          "output_type": "stream",
          "text": [
            "                employer_name  regions_count\n",
            "0                      Яндекс            181\n",
            "1                  Ростелеком            152\n",
            "2                  Спецремонт            116\n",
            "3      Поляков Денис Иванович             88\n",
            "4                   ООО ЕФИН              71\n",
            "...                       ...            ...\n",
            "23496              Но Смокинг              0\n",
            "23497        МАСТЕРСКАЯ CREED              0\n",
            "23498           Dzing Finance              0\n",
            "23499                    КОРС              0\n",
            "23500             Наука-Связь              0\n",
            "\n",
            "[23501 rows x 2 columns]\n"
          ]
        }
      ],
      "source": [
        "# текст запроса\n",
        "query_3_12= f'''\n",
        "SELECT\n",
        "    e.name AS employer_name,\n",
        "    COUNT(DISTINCT v.area_id) AS regions_count\n",
        "FROM\n",
        "    employers e\n",
        "LEFT JOIN vacancies v ON e.id = v.employer_id\n",
        "GROUP BY\n",
        "    e.id, e.name\n",
        "ORDER BY\n",
        "    regions_count DESC;\n",
        "'''\n",
        "df_employers_public_vacancies=pd.read_sql_query(query_3_12, connection)\n",
        "print(df_employers_public_vacancies)"
      ]
    },
    {
      "cell_type": "code",
      "execution_count": 2137,
      "id": "1EIvX3HasH4F",
      "metadata": {
        "id": "1EIvX3HasH4F"
      },
      "outputs": [],
      "source": [
        "# результат запроса"
      ]
    },
    {
      "cell_type": "markdown",
      "id": "eab2206d-d95b-468b-8e5f-34381abf0ce7",
      "metadata": {
        "id": "eab2206d-d95b-468b-8e5f-34381abf0ce7"
      },
      "source": [
        "4. Напишите запрос для подсчёта количества работодателей, у которых не указана сфера деятельности. "
      ]
    },
    {
      "cell_type": "code",
      "execution_count": 2138,
      "id": "80defb23-bfb1-4a18-8be6-bf36aa7165d5",
      "metadata": {
        "id": "80defb23-bfb1-4a18-8be6-bf36aa7165d5"
      },
      "outputs": [
        {
          "name": "stdout",
          "output_type": "stream",
          "text": [
            "   employers_without_industries\n",
            "0                          8419\n"
          ]
        },
        {
          "name": "stderr",
          "output_type": "stream",
          "text": [
            "C:\\Users\\HONOR\\AppData\\Local\\Temp\\ipykernel_15180\\1372283548.py:11: UserWarning: pandas only supports SQLAlchemy connectable (engine/connection) or database string URI or sqlite3 DBAPI2 connection. Other DBAPI2 objects are not tested. Please consider using SQLAlchemy.\n",
            "  df_employers_without_industries=pd.read_sql_query(query_3_13, connection)\n"
          ]
        }
      ],
      "source": [
        "# текст запроса\n",
        "query_3_13= f'''\n",
        "SELECT\n",
        " count(e.id) as employers_without_industries\n",
        "FROM\n",
        "    employers e\n",
        "Left Join employers_industries ei on e.id=ei.employer_id \n",
        "Where\n",
        "    ei.industry_id is null or ei.industry_id = ''\n",
        "'''\n",
        "df_employers_without_industries=pd.read_sql_query(query_3_13, connection)\n",
        "print(df_employers_without_industries)"
      ]
    },
    {
      "cell_type": "code",
      "execution_count": 2139,
      "id": "Dp_yCx6ysQSu",
      "metadata": {
        "id": "Dp_yCx6ysQSu"
      },
      "outputs": [],
      "source": [
        "# результат запроса"
      ]
    },
    {
      "cell_type": "markdown",
      "id": "0112af31-f6b0-4e3b-82ab-71296e752e5e",
      "metadata": {
        "id": "0112af31-f6b0-4e3b-82ab-71296e752e5e"
      },
      "source": [
        "5. Напишите запрос, чтобы узнать название компании, находящейся на третьем месте в алфавитном списке (по названию) компаний, у которых указано четыре сферы деятельности. "
      ]
    },
    {
      "cell_type": "code",
      "execution_count": 2140,
      "id": "973b0cfc-a972-470a-8b4a-68744ef220c4",
      "metadata": {
        "id": "973b0cfc-a972-470a-8b4a-68744ef220c4"
      },
      "outputs": [
        {
          "name": "stderr",
          "output_type": "stream",
          "text": [
            "C:\\Users\\HONOR\\AppData\\Local\\Temp\\ipykernel_15180\\3627624217.py:24: UserWarning: pandas only supports SQLAlchemy connectable (engine/connection) or database string URI or sqlite3 DBAPI2 connection. Other DBAPI2 objects are not tested. Please consider using SQLAlchemy.\n",
            "  df_3_14=pd.read_sql_query(query_3_14, connection)\n"
          ]
        },
        {
          "data": {
            "text/html": [
              "<div>\n",
              "<style scoped>\n",
              "    .dataframe tbody tr th:only-of-type {\n",
              "        vertical-align: middle;\n",
              "    }\n",
              "\n",
              "    .dataframe tbody tr th {\n",
              "        vertical-align: top;\n",
              "    }\n",
              "\n",
              "    .dataframe thead th {\n",
              "        text-align: right;\n",
              "    }\n",
              "</style>\n",
              "<table border=\"1\" class=\"dataframe\">\n",
              "  <thead>\n",
              "    <tr style=\"text-align: right;\">\n",
              "      <th></th>\n",
              "      <th>company_name</th>\n",
              "    </tr>\n",
              "  </thead>\n",
              "  <tbody>\n",
              "    <tr>\n",
              "      <th>0</th>\n",
              "      <td>2ГИС</td>\n",
              "    </tr>\n",
              "  </tbody>\n",
              "</table>\n",
              "</div>"
            ],
            "text/plain": [
              "  company_name\n",
              "0         2ГИС"
            ]
          },
          "metadata": {},
          "output_type": "display_data"
        }
      ],
      "source": [
        "# текст запроса\n",
        "query_3_14=f'''\n",
        "SELECT\n",
        "    e.name AS company_name\n",
        "FROM\n",
        "    employers e\n",
        "JOIN (\n",
        "    SELECT\n",
        "        employer_id\n",
        "    FROM\n",
        "        employers_industries\n",
        "    GROUP BY\n",
        "        employer_id\n",
        "    HAVING\n",
        "        COUNT(DISTINCT industry_id) = 4\n",
        "    ORDER BY\n",
        "        employer_id\n",
        ") subquery ON e.id = subquery.employer_id\n",
        "ORDER BY\n",
        "    company_name\n",
        "OFFSET 2\n",
        "LIMIT 1;\n",
        "'''\n",
        "df_3_14=pd.read_sql_query(query_3_14, connection)\n",
        "display(df_3_14)"
      ]
    },
    {
      "cell_type": "code",
      "execution_count": 2141,
      "id": "xsPtpp8EsaED",
      "metadata": {
        "id": "xsPtpp8EsaED"
      },
      "outputs": [],
      "source": [
        "# результат запроса"
      ]
    },
    {
      "cell_type": "code",
      "execution_count": null,
      "id": "a332a058",
      "metadata": {},
      "outputs": [],
      "source": []
    },
    {
      "cell_type": "markdown",
      "id": "3bfcfdaf-755d-4d2b-8ed8-326201dc07ab",
      "metadata": {
        "id": "3bfcfdaf-755d-4d2b-8ed8-326201dc07ab"
      },
      "source": [
        "6. С помощью запроса выясните, у какого количества работодателей в качестве сферы деятельности указана Разработка программного обеспечения.\n"
      ]
    },
    {
      "cell_type": "code",
      "execution_count": 2142,
      "id": "ad3f270f-2991-47eb-929b-e8f88a55b0d1",
      "metadata": {
        "id": "ad3f270f-2991-47eb-929b-e8f88a55b0d1"
      },
      "outputs": [
        {
          "name": "stderr",
          "output_type": "stream",
          "text": [
            "C:\\Users\\HONOR\\AppData\\Local\\Temp\\ipykernel_15180\\2279666406.py:17: UserWarning: pandas only supports SQLAlchemy connectable (engine/connection) or database string URI or sqlite3 DBAPI2 connection. Other DBAPI2 objects are not tested. Please consider using SQLAlchemy.\n",
            "  df_3_15=pd.read_sql_query(query_3_15, connection)\n"
          ]
        },
        {
          "data": {
            "text/html": [
              "<div>\n",
              "<style scoped>\n",
              "    .dataframe tbody tr th:only-of-type {\n",
              "        vertical-align: middle;\n",
              "    }\n",
              "\n",
              "    .dataframe tbody tr th {\n",
              "        vertical-align: top;\n",
              "    }\n",
              "\n",
              "    .dataframe thead th {\n",
              "        text-align: right;\n",
              "    }\n",
              "</style>\n",
              "<table border=\"1\" class=\"dataframe\">\n",
              "  <thead>\n",
              "    <tr style=\"text-align: right;\">\n",
              "      <th></th>\n",
              "      <th>employers_count</th>\n",
              "    </tr>\n",
              "  </thead>\n",
              "  <tbody>\n",
              "    <tr>\n",
              "      <th>0</th>\n",
              "      <td>3553</td>\n",
              "    </tr>\n",
              "  </tbody>\n",
              "</table>\n",
              "</div>"
            ],
            "text/plain": [
              "   employers_count\n",
              "0             3553"
            ]
          },
          "metadata": {},
          "output_type": "display_data"
        }
      ],
      "source": [
        "# текст запроса\n",
        "query_3_15=f'''\n",
        "SELECT\n",
        "    COUNT(DISTINCT employer_id) AS employers_count\n",
        "FROM\n",
        "    employers_industries\n",
        "WHERE\n",
        "    industry_id IN (\n",
        "        SELECT\n",
        "            id\n",
        "        FROM\n",
        "            industries\n",
        "        WHERE\n",
        "            name = 'Разработка программного обеспечения'\n",
        "    );\n",
        "'''\n",
        "df_3_15=pd.read_sql_query(query_3_15, connection)\n",
        "display(df_3_15)"
      ]
    },
    {
      "cell_type": "code",
      "execution_count": 2143,
      "id": "H72qxWM0shPR",
      "metadata": {
        "id": "H72qxWM0shPR"
      },
      "outputs": [],
      "source": [
        "# результат запроса"
      ]
    },
    {
      "cell_type": "markdown",
      "id": "7b02bb86-0546-40fb-94a4-242f050a5c57",
      "metadata": {
        "id": "7b02bb86-0546-40fb-94a4-242f050a5c57"
      },
      "source": [
        "7. Для компании «Яндекс» выведите список регионов-миллионников, в которых представлены вакансии компании, вместе с количеством вакансий в этих регионах. Также добавьте строку Total с общим количеством вакансий компании. Результат отсортируйте по возрастанию количества.\n",
        "\n",
        "Список городов-милионников надо взять [отсюда](https://ru.wikipedia.org/wiki/%D0%93%D0%BE%D1%80%D0%BE%D0%B4%D0%B0-%D0%BC%D0%B8%D0%BB%D0%BB%D0%B8%D0%BE%D0%BD%D0%B5%D1%80%D1%8B_%D0%A0%D0%BE%D1%81%D1%81%D0%B8%D0%B8). \n",
        "\n",
        "Если возникнут трудности с этим задание посмотрите материалы модуля  PYTHON-17. Как получать данные из веб-источников и API. "
      ]
    },
    {
      "cell_type": "code",
      "execution_count": 2144,
      "id": "ZdfrL6gIs1Pn",
      "metadata": {
        "id": "ZdfrL6gIs1Pn"
      },
      "outputs": [
        {
          "name": "stdout",
          "output_type": "stream",
          "text": [
            "                  name  cnt\n",
            "0               Москва   54\n",
            "1      Санкт-Петербург   42\n",
            "2         Екатеринбург   39\n",
            "3      Нижний Новгород   36\n",
            "4          Новосибирск   35\n",
            "5              Воронеж   32\n",
            "6            Краснодар   30\n",
            "7               Самара   26\n",
            "8                  Уфа   26\n",
            "9               Казань   25\n",
            "10               Пермь   25\n",
            "11      Ростов-на-Дону   25\n",
            "12           Волгоград   24\n",
            "13          Красноярск   23\n",
            "14           Челябинск   22\n",
            "15                Омск   21\n",
            "Total            Total  485\n"
          ]
        },
        {
          "name": "stderr",
          "output_type": "stream",
          "text": [
            "C:\\Users\\HONOR\\AppData\\Local\\Temp\\ipykernel_15180\\790487078.py:27: UserWarning: pandas only supports SQLAlchemy connectable (engine/connection) or database string URI or sqlite3 DBAPI2 connection. Other DBAPI2 objects are not tested. Please consider using SQLAlchemy.\n",
            "  df_yandex_vacancies = pd.read_sql_query(query_yandex_vacancies, connection, params=cities_million)\n"
          ]
        }
      ],
      "source": [
        "# код для получения списка городов-милионников\n",
        "import requests\n",
        "from bs4 import BeautifulSoup\n",
        "import pandas as pd\n",
        "\n",
        "# Загрузка данных о городах-миллионниках\n",
        "url_million_cities = 'https://ru.wikipedia.org/wiki/%D0%93%D0%BE%D1%80%D0%BE%D0%B4%D0%B0-%D0%BC%D0%B8%D0%BB%D0%BB%D0%B8%D0%BE%D0%BD%D0%B5%D1%80%D1%8B_%D0%A0%D0%BE%D1%81%D1%81%D0%B8%D0%B8#%D0%A1%D0%BF%D0%B8%D1%81%D0%BE%D0%BA_%D0%B3%D0%BE%D1%80%D0%BE%D0%B4%D0%BE%D0%B2-%D0%BC%D0%B8%D0%BB%D0%BB%D0%B8%D0%BE%D0%BD%D0%B5%D1%80%D0%BE%D0%B2'\n",
        "response = requests.get(url_million_cities)\n",
        "soup = BeautifulSoup(response.text, 'html.parser')\n",
        "\n",
        "# Извлечение списка городов-миллионников\n",
        "table = soup.find('table', class_='standard')\n",
        "cities_million = [row.find_all('td')[1].text.strip() for row in table.find_all('tr')[1:]]\n",
        "\n",
        "# Запрос для получения информации о компаниях Яндекс и количестве вакансий в указанных городах\n",
        "query_yandex_vacancies = f\"\"\"\n",
        "    SELECT a.name as name, COUNT(*) as cnt\n",
        "    FROM vacancies v\n",
        "    JOIN areas a ON v.area_id = a.id\n",
        "    JOIN employers e ON v.employer_id = e.id\n",
        "    WHERE e.name = 'Яндекс' AND a.name IN ({','.join(['%s']*len(cities_million))})\n",
        "    GROUP BY a.name\n",
        "    order by cnt desc\n",
        "\"\"\"\n",
        "\n",
        "# Загрузка данных в DataFrame\n",
        "df_yandex_vacancies = pd.read_sql_query(query_yandex_vacancies, connection, params=cities_million)\n",
        "\n",
        "# Добавление строки Total\n",
        "df_yandex_vacancies.loc['Total'] = ['Total', df_yandex_vacancies['cnt'].sum()]\n",
        "\n",
        "# Вывод результата\n",
        "print(df_yandex_vacancies)\n"
      ]
    },
    {
      "cell_type": "code",
      "execution_count": 2145,
      "id": "5a0e32a4-e68a-4365-8a39-2fe24c542c36",
      "metadata": {
        "id": "5a0e32a4-e68a-4365-8a39-2fe24c542c36"
      },
      "outputs": [],
      "source": [
        "# текст запроса"
      ]
    },
    {
      "cell_type": "code",
      "execution_count": 2146,
      "id": "ttPhiO1rsvPq",
      "metadata": {
        "id": "ttPhiO1rsvPq"
      },
      "outputs": [],
      "source": [
        "# результат запроса"
      ]
    },
    {
      "cell_type": "markdown",
      "id": "04966e40-3bc3-4dc8-9ba2-e80580ce3abc",
      "metadata": {
        "id": "04966e40-3bc3-4dc8-9ba2-e80580ce3abc"
      },
      "source": [
        "***"
      ]
    },
    {
      "cell_type": "code",
      "execution_count": 2147,
      "id": "aGGyER-yt4SR",
      "metadata": {
        "id": "aGGyER-yt4SR"
      },
      "outputs": [],
      "source": [
        "# выводы по анализу работодателей"
      ]
    },
    {
      "cell_type": "markdown",
      "id": "b1ef156a-efcb-49ce-bb23-90763e7f35b2",
      "metadata": {
        "id": "b1ef156a-efcb-49ce-bb23-90763e7f35b2",
        "tags": []
      },
      "source": [
        "# Юнит 6. Предметный анализ"
      ]
    },
    {
      "cell_type": "markdown",
      "id": "b9cd50a0-992d-4988-8463-2b2b1c4629b4",
      "metadata": {
        "id": "b9cd50a0-992d-4988-8463-2b2b1c4629b4"
      },
      "source": [
        "1. Сколько вакансий имеет отношение к данным?\n",
        "\n",
        "Считаем, что вакансия имеет отношение к данным, если в её названии содержатся слова 'data' или 'данн'.\n",
        "\n",
        "*Подсказка: Обратите внимание, что названия вакансий могут быть написаны в любом регистре.* \n"
      ]
    },
    {
      "cell_type": "code",
      "execution_count": 2148,
      "id": "54ab0e50-c0f1-47cc-a54b-bc5c8bc363f9",
      "metadata": {
        "id": "54ab0e50-c0f1-47cc-a54b-bc5c8bc363f9"
      },
      "outputs": [
        {
          "name": "stderr",
          "output_type": "stream",
          "text": [
            "C:\\Users\\HONOR\\AppData\\Local\\Temp\\ipykernel_15180\\2453573717.py:8: UserWarning: pandas only supports SQLAlchemy connectable (engine/connection) or database string URI or sqlite3 DBAPI2 connection. Other DBAPI2 objects are not tested. Please consider using SQLAlchemy.\n",
            "  df_data_science=pd.read_sql_query(query_3_17, connection)\n"
          ]
        },
        {
          "data": {
            "text/html": [
              "<div>\n",
              "<style scoped>\n",
              "    .dataframe tbody tr th:only-of-type {\n",
              "        vertical-align: middle;\n",
              "    }\n",
              "\n",
              "    .dataframe tbody tr th {\n",
              "        vertical-align: top;\n",
              "    }\n",
              "\n",
              "    .dataframe thead th {\n",
              "        text-align: right;\n",
              "    }\n",
              "</style>\n",
              "<table border=\"1\" class=\"dataframe\">\n",
              "  <thead>\n",
              "    <tr style=\"text-align: right;\">\n",
              "      <th></th>\n",
              "      <th>data_related_count</th>\n",
              "    </tr>\n",
              "  </thead>\n",
              "  <tbody>\n",
              "    <tr>\n",
              "      <th>0</th>\n",
              "      <td>1771</td>\n",
              "    </tr>\n",
              "  </tbody>\n",
              "</table>\n",
              "</div>"
            ],
            "text/plain": [
              "   data_related_count\n",
              "0                1771"
            ]
          },
          "metadata": {},
          "output_type": "display_data"
        }
      ],
      "source": [
        "# текст запроса\n",
        "import pandas as pd\n",
        "query_3_17=f'''\n",
        "SELECT COUNT(*) as data_related_count\n",
        "FROM vacancies\n",
        "WHERE LOWER(name) LIKE '%data%' OR LOWER(name) LIKE '%данн%'\n",
        "'''\n",
        "df_data_science=pd.read_sql_query(query_3_17, connection)\n",
        "display(df_data_science)"
      ]
    },
    {
      "cell_type": "code",
      "execution_count": 2149,
      "id": "9F1meAqsuUjd",
      "metadata": {
        "id": "9F1meAqsuUjd"
      },
      "outputs": [],
      "source": [
        "# результат запроса"
      ]
    },
    {
      "cell_type": "markdown",
      "id": "4dea20cb-a36b-474a-a0b9-e08e8e3857a5",
      "metadata": {
        "id": "4dea20cb-a36b-474a-a0b9-e08e8e3857a5"
      },
      "source": [
        "2. Сколько есть подходящих вакансий для начинающего дата-сайентиста? \n",
        "Будем считать вакансиями для дата-сайентистов такие, в названии которых есть хотя бы одно из следующих сочетаний:\n",
        "* 'data scientist'\n",
        "* 'data science'\n",
        "* 'исследователь данных'\n",
        "* 'ML' (здесь не нужно брать вакансии по HTML)\n",
        "* 'machine learning'\n",
        "* 'машинн%обучен%'\n",
        "\n",
        "** В следующих заданиях мы продолжим работать с вакансиями по этому условию.*\n",
        "\n",
        "Считаем вакансиями для специалистов уровня Junior следующие:\n",
        "* в названии есть слово 'junior' *или*\n",
        "* требуемый опыт — Нет опыта *или*\n",
        "* тип трудоустройства — Стажировка.\n",
        " "
      ]
    },
    {
      "cell_type": "code",
      "execution_count": 2150,
      "id": "9c61b3c0-bb66-46c9-ae1e-81d3f5752b4a",
      "metadata": {
        "id": "9c61b3c0-bb66-46c9-ae1e-81d3f5752b4a"
      },
      "outputs": [
        {
          "name": "stderr",
          "output_type": "stream",
          "text": [
            "C:\\Users\\HONOR\\AppData\\Local\\Temp\\ipykernel_15180\\2112081206.py:15: UserWarning: pandas only supports SQLAlchemy connectable (engine/connection) or database string URI or sqlite3 DBAPI2 connection. Other DBAPI2 objects are not tested. Please consider using SQLAlchemy.\n",
            "  df_junior=pd.read_sql_query(query_3_18,connection)\n"
          ]
        },
        {
          "data": {
            "text/html": [
              "<div>\n",
              "<style scoped>\n",
              "    .dataframe tbody tr th:only-of-type {\n",
              "        vertical-align: middle;\n",
              "    }\n",
              "\n",
              "    .dataframe tbody tr th {\n",
              "        vertical-align: top;\n",
              "    }\n",
              "\n",
              "    .dataframe thead th {\n",
              "        text-align: right;\n",
              "    }\n",
              "</style>\n",
              "<table border=\"1\" class=\"dataframe\">\n",
              "  <thead>\n",
              "    <tr style=\"text-align: right;\">\n",
              "      <th></th>\n",
              "      <th>junior_data_scientist_count</th>\n",
              "    </tr>\n",
              "  </thead>\n",
              "  <tbody>\n",
              "    <tr>\n",
              "      <th>0</th>\n",
              "      <td>51</td>\n",
              "    </tr>\n",
              "  </tbody>\n",
              "</table>\n",
              "</div>"
            ],
            "text/plain": [
              "   junior_data_scientist_count\n",
              "0                           51"
            ]
          },
          "metadata": {},
          "output_type": "display_data"
        }
      ],
      "source": [
        "# текст запроса\n",
        "query_3_18=f'''\n",
        "SELECT COUNT(*) as junior_data_scientist_count\n",
        "FROM vacancies\n",
        "WHERE (LOWER(name) LIKE '%data scientist%' \n",
        "        OR LOWER(name) LIKE '%data science%'\n",
        "        OR LOWER(name) LIKE '%исследователь данных%'\n",
        "        OR LOWER(name) LIKE '%machine learning%'\n",
        "        OR LOWER(name) LIKE '%машинн%обучен%'\n",
        "        OR LOWER(name) LIKE '%ml%' and LOWER(name) NOT LIKE '%html%')\n",
        "    AND (LOWER(name) LIKE '%junior%'\n",
        "        OR LOWER(experience) LIKE '%нет опыта%'\n",
        "        OR LOWER(employment) LIKE '%стажировка%');\n",
        "        '''\n",
        "df_junior=pd.read_sql_query(query_3_18,connection)\n",
        "display(df_junior)"
      ]
    },
    {
      "cell_type": "code",
      "execution_count": 2151,
      "id": "ZNM-LLYuu1dj",
      "metadata": {
        "id": "ZNM-LLYuu1dj"
      },
      "outputs": [],
      "source": [
        "# результат запроса"
      ]
    },
    {
      "cell_type": "markdown",
      "id": "eedceb80-c5ca-480e-b27a-278dfb8b4438",
      "metadata": {
        "id": "eedceb80-c5ca-480e-b27a-278dfb8b4438"
      },
      "source": [
        "3. Сколько есть вакансий для DS, в которых в качестве ключевого навыка указан SQL или postgres?\n",
        "\n",
        "** Критерии для отнесения вакансии к DS указаны в предыдущем задании.*"
      ]
    },
    {
      "cell_type": "code",
      "execution_count": 2152,
      "id": "69621713-0cc5-4f1b-a1d7-bb144fa6148c",
      "metadata": {
        "id": "69621713-0cc5-4f1b-a1d7-bb144fa6148c"
      },
      "outputs": [
        {
          "name": "stderr",
          "output_type": "stream",
          "text": [
            "C:\\Users\\HONOR\\AppData\\Local\\Temp\\ipykernel_15180\\1180549610.py:13: UserWarning: pandas only supports SQLAlchemy connectable (engine/connection) or database string URI or sqlite3 DBAPI2 connection. Other DBAPI2 objects are not tested. Please consider using SQLAlchemy.\n",
            "  df_ds_skills=pd.read_sql_query(query_3_19,connection)\n"
          ]
        },
        {
          "data": {
            "text/html": [
              "<div>\n",
              "<style scoped>\n",
              "    .dataframe tbody tr th:only-of-type {\n",
              "        vertical-align: middle;\n",
              "    }\n",
              "\n",
              "    .dataframe tbody tr th {\n",
              "        vertical-align: top;\n",
              "    }\n",
              "\n",
              "    .dataframe thead th {\n",
              "        text-align: right;\n",
              "    }\n",
              "</style>\n",
              "<table border=\"1\" class=\"dataframe\">\n",
              "  <thead>\n",
              "    <tr style=\"text-align: right;\">\n",
              "      <th></th>\n",
              "      <th>data_scientist_count_skills</th>\n",
              "    </tr>\n",
              "  </thead>\n",
              "  <tbody>\n",
              "    <tr>\n",
              "      <th>0</th>\n",
              "      <td>201</td>\n",
              "    </tr>\n",
              "  </tbody>\n",
              "</table>\n",
              "</div>"
            ],
            "text/plain": [
              "   data_scientist_count_skills\n",
              "0                          201"
            ]
          },
          "metadata": {},
          "output_type": "display_data"
        }
      ],
      "source": [
        "# текст запроса\n",
        "query_3_19=f'''\n",
        "SELECT COUNT(*) as data_scientist_count_skills\n",
        "FROM vacancies\n",
        "WHERE (LOWER(name) LIKE '%data scientist%' \n",
        "        OR LOWER(name) LIKE '%data science%'\n",
        "        OR LOWER(name) LIKE '%исследователь данных%'\n",
        "        OR LOWER(name) LIKE '%machine learning%'\n",
        "        OR LOWER(name) LIKE '%машинн%обучен%'\n",
        "        OR name LIKE '%ML%' and name NOT LIKE '%HTML%')\n",
        "        AND (LOWER(key_skills) LIKE '%sql%' OR LOWER(key_skills) LIKE '%postgres%')\n",
        "        '''\n",
        "df_ds_skills=pd.read_sql_query(query_3_19,connection)\n",
        "display(df_ds_skills)"
      ]
    },
    {
      "cell_type": "code",
      "execution_count": 2153,
      "id": "alA8WEAAvGdf",
      "metadata": {
        "id": "alA8WEAAvGdf"
      },
      "outputs": [],
      "source": [
        "# результат запроса"
      ]
    },
    {
      "cell_type": "markdown",
      "id": "1be1e9c6-37cf-4a5f-bfeb-04cab799dc80",
      "metadata": {
        "id": "1be1e9c6-37cf-4a5f-bfeb-04cab799dc80"
      },
      "source": [
        "4. Проверьте, насколько популярен Python в требованиях работодателей к DS.Для этого вычислите количество вакансий, в которых в качестве ключевого навыка указан Python.\n",
        "\n",
        "** Это можно сделать помощью запроса, аналогичного предыдущему.*"
      ]
    },
    {
      "cell_type": "code",
      "execution_count": 2154,
      "id": "0036a355-9ccf-4564-8b01-73d8194297e7",
      "metadata": {
        "id": "0036a355-9ccf-4564-8b01-73d8194297e7"
      },
      "outputs": [
        {
          "name": "stderr",
          "output_type": "stream",
          "text": [
            "C:\\Users\\HONOR\\AppData\\Local\\Temp\\ipykernel_15180\\3547565975.py:13: UserWarning: pandas only supports SQLAlchemy connectable (engine/connection) or database string URI or sqlite3 DBAPI2 connection. Other DBAPI2 objects are not tested. Please consider using SQLAlchemy.\n",
            "  df_ds_python=pd.read_sql_query(query_3_20,connection)\n"
          ]
        },
        {
          "data": {
            "text/html": [
              "<div>\n",
              "<style scoped>\n",
              "    .dataframe tbody tr th:only-of-type {\n",
              "        vertical-align: middle;\n",
              "    }\n",
              "\n",
              "    .dataframe tbody tr th {\n",
              "        vertical-align: top;\n",
              "    }\n",
              "\n",
              "    .dataframe thead th {\n",
              "        text-align: right;\n",
              "    }\n",
              "</style>\n",
              "<table border=\"1\" class=\"dataframe\">\n",
              "  <thead>\n",
              "    <tr style=\"text-align: right;\">\n",
              "      <th></th>\n",
              "      <th>data_scientist_count_python</th>\n",
              "    </tr>\n",
              "  </thead>\n",
              "  <tbody>\n",
              "    <tr>\n",
              "      <th>0</th>\n",
              "      <td>351</td>\n",
              "    </tr>\n",
              "  </tbody>\n",
              "</table>\n",
              "</div>"
            ],
            "text/plain": [
              "   data_scientist_count_python\n",
              "0                          351"
            ]
          },
          "metadata": {},
          "output_type": "display_data"
        }
      ],
      "source": [
        "# текст запроса\n",
        "query_3_20=f'''\n",
        "SELECT COUNT(*) as data_scientist_count_python\n",
        "FROM vacancies\n",
        "WHERE (LOWER(name) LIKE '%data scientist%' \n",
        "        OR LOWER(name) LIKE '%data science%'\n",
        "        OR LOWER(name) LIKE '%исследователь данных%'\n",
        "        OR LOWER(name) LIKE '%machine learning%'\n",
        "        OR LOWER(name) LIKE '%машинн%обучен%'\n",
        "        OR name LIKE '%ML%' and name NOT LIKE '%HTML%')\n",
        "        AND (LOWER(key_skills) LIKE '%python%')\n",
        "        '''\n",
        "df_ds_python=pd.read_sql_query(query_3_20,connection)\n",
        "display(df_ds_python)"
      ]
    },
    {
      "cell_type": "code",
      "execution_count": 2155,
      "id": "1i-5WyucvQ6v",
      "metadata": {
        "id": "1i-5WyucvQ6v"
      },
      "outputs": [],
      "source": [
        "# результат запроса"
      ]
    },
    {
      "cell_type": "markdown",
      "id": "ec3c8db7-fa21-4a41-a994-1af63742a642",
      "metadata": {
        "id": "ec3c8db7-fa21-4a41-a994-1af63742a642"
      },
      "source": [
        "5. Сколько ключевых навыков в среднем указывают в вакансиях для DS?\n",
        "Ответ округлите до двух знаков после точки-разделителя."
      ]
    },
    {
      "cell_type": "code",
      "execution_count": 2168,
      "id": "949132bc-d5b6-4611-8218-0b9a504d74f4",
      "metadata": {
        "id": "949132bc-d5b6-4611-8218-0b9a504d74f4"
      },
      "outputs": [
        {
          "name": "stderr",
          "output_type": "stream",
          "text": [
            "C:\\Users\\HONOR\\AppData\\Local\\Temp\\ipykernel_15180\\2141735912.py:15: UserWarning: pandas only supports SQLAlchemy connectable (engine/connection) or database string URI or sqlite3 DBAPI2 connection. Other DBAPI2 objects are not tested. Please consider using SQLAlchemy.\n",
            "  df_total_skills=pd.read_sql_query(query_6_5, connection)\n"
          ]
        },
        {
          "name": "stdout",
          "output_type": "stream",
          "text": [
            "   round\n",
            "0   6.41\n"
          ]
        }
      ],
      "source": [
        "# текст запроса\n",
        "\n",
        "query_6_5=f'''\n",
        "SELECT round(avg(length(key_skills)-length(replace(key_skills, CHR(9), ''))+1),2)\n",
        "FROM vacancies\n",
        "WHERE (\n",
        "        LOWER(name) LIKE '%data scientist%' \n",
        "        OR LOWER(name) LIKE '%data science%'\n",
        "        OR LOWER(name) LIKE '%исследователь данных%'\n",
        "        OR LOWER(name) LIKE '%машинн%обучен%'\n",
        "        OR LOWER(name) LIKE '%machine learning%'\n",
        "        OR name LIKE '%ML%' and name NOT LIKE '%HTML%'\n",
        ") \n",
        "'''\n",
        "df_total_skills=pd.read_sql_query(query_6_5, connection)\n",
        "print(df_total_skills)\n"
      ]
    },
    {
      "cell_type": "code",
      "execution_count": null,
      "id": "a3V24Tvmviqk",
      "metadata": {
        "id": "a3V24Tvmviqk"
      },
      "outputs": [],
      "source": [
        "# результат запроса"
      ]
    },
    {
      "cell_type": "markdown",
      "id": "1041c17a-ca8f-4543-a0ca-32778914fb00",
      "metadata": {
        "id": "1041c17a-ca8f-4543-a0ca-32778914fb00"
      },
      "source": [
        "6. Напишите запрос, позволяющий вычислить, какую зарплату для DS в **среднем** указывают для каждого типа требуемого опыта (уникальное значение из поля *experience*). \n",
        "\n",
        "При решении задачи примите во внимание следующее:\n",
        "1. Рассматриваем только вакансии, у которых заполнено хотя бы одно из двух полей с зарплатой.\n",
        "2. Если заполнены оба поля с зарплатой, то считаем зарплату по каждой вакансии как сумму двух полей, делённую на 2. Если заполнено только одно из полей, то его и считаем зарплатой по вакансии.\n",
        "3. Если в расчётах участвует null, в результате он тоже даст null (посмотрите, что возвращает запрос select 1 + null). Чтобы избежать этой ситуацию, мы воспользуемся функцией [coalesce](https://postgrespro.ru/docs/postgresql/9.5/functions-conditional#functions-coalesce-nvl-ifnull), которая заменит null на значение, которое мы передадим. Например, посмотрите, что возвращает запрос `select 1 + coalesce(null, 0)`\n",
        "\n",
        "Выясните, на какую зарплату в среднем может рассчитывать дата-сайентист с опытом работы от 3 до 6 лет. Результат округлите до целого числа. "
      ]
    },
    {
      "cell_type": "code",
      "execution_count": null,
      "id": "6a743d39-5204-48d3-8271-b9f88e68d40e",
      "metadata": {
        "id": "6a743d39-5204-48d3-8271-b9f88e68d40e"
      },
      "outputs": [
        {
          "name": "stdout",
          "output_type": "stream",
          "text": [
            "           experience     avg_salary\n",
            "0           Нет опыта   74642.857143\n",
            "1  От 1 года до 3 лет  139674.750000\n",
            "2       От 3 до 6 лет  243114.666667\n"
          ]
        },
        {
          "name": "stderr",
          "output_type": "stream",
          "text": [
            "C:\\Users\\HONOR\\AppData\\Local\\Temp\\ipykernel_15180\\3128421972.py:31: UserWarning: pandas only supports SQLAlchemy connectable (engine/connection) or database string URI or sqlite3 DBAPI2 connection. Other DBAPI2 objects are not tested. Please consider using SQLAlchemy.\n",
            "  df_salary_ds=pd.read_sql_query(query_3_22,connection)\n"
          ]
        }
      ],
      "source": [
        "# текст запроса\n",
        "query_3_22=f'''\n",
        "SELECT \n",
        "  experience,\n",
        "  AVG(\n",
        "    CASE \n",
        "      WHEN salary_from IS NOT NULL AND salary_to IS NOT NULL THEN (salary_from + salary_to) / 2\n",
        "      WHEN salary_from IS NOT NULL THEN salary_from\n",
        "      WHEN salary_to IS NOT NULL THEN salary_to\n",
        "      ELSE 0\n",
        "    END\n",
        " ) AS avg_salary\n",
        "FROM \n",
        "  vacancies\n",
        "WHERE \n",
        "  (\n",
        "    salary_from IS NOT NULL OR \n",
        "    salary_to IS NOT NULL\n",
        "  ) AND \n",
        "  (\n",
        "   LOWER(name) LIKE '%data scientist%' \n",
        "        OR LOWER(name) LIKE '%data science%'\n",
        "        OR LOWER(name) LIKE '%исследователь данных%'\n",
        "        OR LOWER(name) LIKE '%машинн%обучен%'\n",
        "        OR LOWER(name) LIKE '%machine learning%'\n",
        "        OR name LIKE '%ML%' and name NOT LIKE '%HTML%'\n",
        ")\n",
        "GROUP BY \n",
        "  experience;\n",
        "'''\n",
        "df_salary_ds=pd.read_sql_query(query_3_22,connection)\n",
        "print(df_salary_ds)\n",
        "#connection.close()"
      ]
    },
    {
      "cell_type": "code",
      "execution_count": null,
      "id": "aRIJ0mZEwU1_",
      "metadata": {
        "id": "aRIJ0mZEwU1_"
      },
      "outputs": [],
      "source": [
        "# результат запроса"
      ]
    },
    {
      "cell_type": "code",
      "execution_count": null,
      "id": "44f26183",
      "metadata": {},
      "outputs": [
        {
          "name": "stderr",
          "output_type": "stream",
          "text": [
            "C:\\Users\\HONOR\\AppData\\Local\\Temp\\ipykernel_15180\\3638068489.py:11: UserWarning: pandas only supports SQLAlchemy connectable (engine/connection) or database string URI or sqlite3 DBAPI2 connection. Other DBAPI2 objects are not tested. Please consider using SQLAlchemy.\n",
            "  df_expirience=pd.read_sql_query(query_expirience_extra, connection)\n"
          ]
        },
        {
          "name": "stdout",
          "output_type": "stream",
          "text": [
            "                                          industry_name          experience  \\\n",
            "0                                         Авиаперевозки         Более 6 лет   \n",
            "1                                         Авиаперевозки           Нет опыта   \n",
            "2                                         Авиаперевозки  От 1 года до 3 лет   \n",
            "3                                         Авиаперевозки       От 3 до 6 лет   \n",
            "4     Авиационная, вертолетная, аэрокосмическая пром...         Более 6 лет   \n",
            "...                                                 ...                 ...   \n",
            "1074       Ювелирные изделия, бижутерия  (производство)       От 3 до 6 лет   \n",
            "1075                           Юридическое обслуживание         Более 6 лет   \n",
            "1076                           Юридическое обслуживание           Нет опыта   \n",
            "1077                           Юридическое обслуживание  От 1 года до 3 лет   \n",
            "1078                           Юридическое обслуживание       От 3 до 6 лет   \n",
            "\n",
            "      count_vacancies  \n",
            "0                   5  \n",
            "1                   6  \n",
            "2                  53  \n",
            "3                  37  \n",
            "4                   9  \n",
            "...               ...  \n",
            "1074               17  \n",
            "1075                3  \n",
            "1076               17  \n",
            "1077               74  \n",
            "1078               35  \n",
            "\n",
            "[1079 rows x 3 columns]\n"
          ]
        },
        {
          "data": {
            "image/png": "[encoded data removed]",
            "text/plain": [
              "<Figure size 2000x1600 with 1 Axes>"
            ]
          },
          "metadata": {},
          "output_type": "display_data"
        }
      ],
      "source": [
        "query_expirience_extra=f'''\n",
        "SELECT i.name AS industry_name, \n",
        "       v.experience, \n",
        "       COUNT(*) AS count_vacancies\n",
        "FROM industries i\n",
        "JOIN employers_industries ei ON i.id = ei.industry_id\n",
        "JOIN vacancies v ON ei.employer_id = v.employer_id\n",
        "GROUP BY i.name, v.experience\n",
        "ORDER BY i.name, v.experience;\n",
        "'''\n",
        "df_expirience=pd.read_sql_query(query_expirience_extra, connection)\n",
        "print(df_expirience)\n",
        "\n",
        "import pandas as pd\n",
        "import matplotlib.pyplot as plt\n",
        "\n",
        "# Найдем 10 самых популярных сфер\n",
        "top_industries = df_expirience.groupby('industry_name')['count_vacancies'].sum().nlargest(5).index\n",
        "\n",
        "# Отфильтруем DataFrame по этим сферам\n",
        "df_filtered = df_expirience[df_expirience['industry_name'].isin(top_industries)]\n",
        "\n",
        "# Построение графика\n",
        "fig, ax = plt.subplots(figsize=(20, 16))\n",
        "\n",
        "# Используем более разнообразную цветовую палитру\n",
        "colors = plt.cm.viridis.colors\n",
        "\n",
        "# Используем цвета из палитры\n",
        "for i, (industry, group) in enumerate(df_filtered.groupby('industry_name')):\n",
        "    ax.bar(group['experience'], group['count_vacancies'], label=industry)\n",
        "\n",
        "ax.set_xlabel('Experience')\n",
        "ax.set_ylabel('Number of Vacancies')\n",
        "ax.set_title('Distribution of Top 10 Industries by Experience')\n",
        "ax.legend(title='Industry', fontsize='small', loc='upper left', prop={'size':8})\n",
        "\n",
        "plt.show()\n",
        "\n",
        "\n",
        "\n"
      ]
    },
    {
      "cell_type": "markdown",
      "id": "6a7892b4-4113-4746-adce-18aa2844f18e",
      "metadata": {
        "id": "6a7892b4-4113-4746-adce-18aa2844f18e"
      },
      "source": [
        "***"
      ]
    },
    {
      "cell_type": "code",
      "execution_count": null,
      "id": "UjLWUptVwY1o",
      "metadata": {
        "id": "UjLWUptVwY1o"
      },
      "outputs": [],
      "source": [
        "# выводы по предметному анализу"
      ]
    },
    {
      "cell_type": "markdown",
      "id": "c0ED6fh7wiBT",
      "metadata": {
        "id": "c0ED6fh7wiBT"
      },
      "source": [
        "# Общий вывод по проекту"
      ]
    },
    {
      "cell_type": "code",
      "execution_count": null,
      "id": "h9B3BL-wwj18",
      "metadata": {
        "id": "h9B3BL-wwj18"
      },
      "outputs": [],
      "source": [
        "# подведем итог исследования, обобщите выводы\n",
        "# здесь можно (это будет плюсом) провести дополнительные исследования данных, сделать прогнозы, продумать варианты продолжения исследования"
      ]
    }
  ],
  "metadata": {
    "colab": {
      "collapsed_sections": [
        "8d62a9f3-f64e-4fe7-bdac-c4dffa16155e"
      ],
      "provenance": []
    },
    "kernelspec": {
      "display_name": "Python 3 (ipykernel)",
      "language": "python",
      "name": "python3"
    },
    "language_info": {
      "codemirror_mode": {
        "name": "ipython",
        "version": 3
      },
      "file_extension": ".py",
      "mimetype": "text/x-python",
      "name": "python",
      "nbconvert_exporter": "python",
      "pygments_lexer": "ipython3",
      "version": "3.11.5"
    }
  },
  "nbformat": 4,
  "nbformat_minor": 5
}
